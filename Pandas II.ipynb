{
 "cells": [
  {
   "cell_type": "markdown",
   "metadata": {},
   "source": [
    "# Pandas II"
   ]
  },
  {
   "cell_type": "markdown",
   "metadata": {},
   "source": [
    "<img src=\"https://i1.wp.com/numfocus.org/wp-content/uploads/2016/07/pandas-logo-300.png?fit=300%2C300&ssl=1\" width=\"200\">"
   ]
  },
  {
   "cell_type": "markdown",
   "metadata": {},
   "source": [
    "In our previous notebook we saw the internals of pandas and that pandas is comprised of 3 objects: \n",
    "1. Index\n",
    "1. Series\n",
    "1. DataFrame  \n",
    "\n",
    "We also saw that all 3 objects wrap a numpy array inside them. We saw how to query these objects, how they can leverage the power of numpy universal function and finished with how we can concatenate these objects together."
   ]
  },
  {
   "cell_type": "code",
   "execution_count": null,
   "metadata": {},
   "outputs": [],
   "source": [
    "import pandas as pd\n",
    "import numpy as np"
   ]
  },
  {
   "cell_type": "markdown",
   "metadata": {},
   "source": [
    "## Merges\n",
    "***\n",
    "We saw we can \"stitch\" together DataFrames and Series using the pandas concat method and the append methods which works like we are operating on a list.\n",
    "\n",
    "\n",
    "But, in many cases we would like to perform smarter merges between dataframes. There is an entire universe and probably and entire course one can teach on databases merges and joins, but we will keep the discussion simple, mainly showcasing the more common operation and showing those who wish to take the longer path it's beginning.\n",
    "\n",
    "This get us into the world of `pd.merge` We will talk about 4 of the merge types it supply for us:\n",
    "1. __Inner__ \n",
    "1. __Outer__ \n",
    "1. __Left__\n",
    "1. __Right__"
   ]
  },
  {
   "cell_type": "markdown",
   "metadata": {},
   "source": [
    "Throughout this section we will work with the following toy dataset:"
   ]
  },
  {
   "cell_type": "code",
   "execution_count": null,
   "metadata": {},
   "outputs": [],
   "source": [
    "df_left = pd.DataFrame(data={\n",
    "    'Student' : ['michael', 'kobe', 'larry', 'james', 'kevin'],\n",
    "    'Age' : [23, 24, 33, 23, 35]\n",
    "})\n",
    "\n",
    "df_right = pd.DataFrame(data={\n",
    "    'Student' : ['michael', 'larry', 'kevin', 'stephen'],\n",
    "    'Courses' : ['Machine Learning', 'Deep Learning', 'Statistics', 'Cloud Computing']\n",
    "})"
   ]
  },
  {
   "cell_type": "code",
   "execution_count": null,
   "metadata": {},
   "outputs": [],
   "source": [
    "df_left"
   ]
  },
  {
   "cell_type": "code",
   "execution_count": null,
   "metadata": {},
   "outputs": [],
   "source": [
    "df_right"
   ]
  },
  {
   "cell_type": "markdown",
   "metadata": {},
   "source": [
    "### Inner \n",
    "The default merge is the inner merge. This will look for a common column, which will serve as the merge by column (each value in this column is a key), and will return the intersection between the keys. Any key which is not on one of the tables will be ignored."
   ]
  },
  {
   "cell_type": "code",
   "execution_count": null,
   "metadata": {},
   "outputs": [],
   "source": [
    "pd.merge(df_left, df_right)"
   ]
  },
  {
   "cell_type": "markdown",
   "metadata": {},
   "source": [
    "### Outer\n",
    "If the inner join returned the intersection between the key, than the outer merge returns the union between the keys, filling up nan where a value is missing.  \n",
    "To specify the merge type we used the `how` parameter."
   ]
  },
  {
   "cell_type": "code",
   "execution_count": null,
   "metadata": {},
   "outputs": [],
   "source": [
    "pd.merge(df_left, df_right, how='outer')"
   ]
  },
  {
   "cell_type": "markdown",
   "metadata": {},
   "source": [
    "### Left\n",
    "As one might expect the left merge return all the keys in the left dataframe filling in nan where values are missing"
   ]
  },
  {
   "cell_type": "code",
   "execution_count": null,
   "metadata": {},
   "outputs": [],
   "source": [
    "pd.merge(df_left, df_right, how='left')"
   ]
  },
  {
   "cell_type": "markdown",
   "metadata": {},
   "source": [
    "### Right\n",
    "And you guessed it the right merge returns all the keys in the right table filling in nan where values are missing"
   ]
  },
  {
   "cell_type": "code",
   "execution_count": null,
   "metadata": {},
   "outputs": [],
   "source": [
    "pd.merge(df_left, df_right, how='right')"
   ]
  },
  {
   "cell_type": "markdown",
   "metadata": {},
   "source": [
    "In the above example we used the fact that we add a single column which was in both of the datasets.  \n",
    "There are cases where the is more than one joined columns, and there are times where the columns we wish to merge on have different names. All of these problems can be solved by passing in the correct parameters to the merge method which you will query in the next exercise."
   ]
  },
  {
   "cell_type": "markdown",
   "metadata": {},
   "source": [
    "***\n",
    "## Exercise\n",
    "***"
   ]
  },
  {
   "cell_type": "code",
   "execution_count": null,
   "metadata": {},
   "outputs": [],
   "source": [
    "df_names = pd.DataFrame(data={\n",
    "    'Product' : ['shampoo', 'soap', 'tooth paste', 'toilet paper', 'sponage']\n",
    "}, index = ['412', '333', '525', '111', '212'])\n",
    "\n",
    "df_prices = pd.DataFrame(data={\n",
    "    'price' : [12, 15, 13, 17, 26]\n",
    "}, index = ['412', '333', '525', '111', '555'])"
   ]
  },
  {
   "cell_type": "markdown",
   "metadata": {},
   "source": [
    "__Find out the price of each product using a merge operation, keep all products but discard irrelevant prices. (keep the result in a new dataframe)__  \n",
    "Read the merge docs to find out how to merge on the index"
   ]
  },
  {
   "cell_type": "code",
   "execution_count": null,
   "metadata": {},
   "outputs": [],
   "source": [
    "merged = None\n",
    "# Your code starts here\n",
    "\n",
    "# Your code ends here\n",
    "merged"
   ]
  },
  {
   "cell_type": "code",
   "execution_count": null,
   "metadata": {},
   "outputs": [],
   "source": [
    "df_super_aisle = pd.DataFrame({\n",
    "    'type' : ['shampoo', 'soap', 'tooth paste', 'toilet paper', 'sponage'],\n",
    "    'aisle' : [0, 0, 12, 15, 9]\n",
    "})"
   ]
  },
  {
   "cell_type": "markdown",
   "metadata": {},
   "source": [
    "__Create a dataframe holding both the product price and the aisle it should be in the supermarket__"
   ]
  },
  {
   "cell_type": "code",
   "execution_count": null,
   "metadata": {},
   "outputs": [],
   "source": [
    "res = None\n",
    "# Your code starts here\n",
    "\n",
    "# Your code ends here\n",
    "res"
   ]
  },
  {
   "cell_type": "code",
   "execution_count": null,
   "metadata": {},
   "outputs": [],
   "source": [
    "df_super_owner = pd.DataFrame({\n",
    "    'owner' : ['Dave', 'Sean', 'Ashely', 'Gal'],\n",
    "    'aisle' : [0, 12, 15, 9]\n",
    "})"
   ]
  },
  {
   "cell_type": "markdown",
   "metadata": {},
   "source": [
    "__Find out who is in charge for each product(type - shampoo, soap, etc..)__"
   ]
  },
  {
   "cell_type": "code",
   "execution_count": null,
   "metadata": {},
   "outputs": [],
   "source": [
    "res = None\n",
    "# Your code starts here\n",
    "\n",
    "# Your code ends here\n",
    "res"
   ]
  },
  {
   "cell_type": "markdown",
   "metadata": {},
   "source": [
    "## Aggregation & Grouping\n",
    "We have seen that numpy provides a handful of aggregation functions we can use the get statistics of our arrays.  \n",
    "We can harvest those function in pandas as well."
   ]
  },
  {
   "cell_type": "markdown",
   "metadata": {},
   "source": [
    "### Series Aggregation\n",
    "Aggregation over a series works the same as it does on 1d numpy array :"
   ]
  },
  {
   "cell_type": "code",
   "execution_count": null,
   "metadata": {},
   "outputs": [],
   "source": [
    "np.random.seed(1234)\n",
    "s = pd.Series(np.random.randint(low=10, high=100, size=10))\n",
    "s"
   ]
  },
  {
   "cell_type": "code",
   "execution_count": null,
   "metadata": {},
   "outputs": [],
   "source": [
    "s.mean(), s.std(), s.max()"
   ]
  },
  {
   "cell_type": "markdown",
   "metadata": {},
   "source": [
    "### Dataframes aggregation\n",
    "As one might expect the aggregation over a dataframe will default into preforming columns wise aggregation:"
   ]
  },
  {
   "cell_type": "code",
   "execution_count": null,
   "metadata": {},
   "outputs": [],
   "source": [
    "np.random.seed(4321)\n",
    "df = pd.DataFrame(np.random.randint(low=10, high=80, size=(12, 4)), columns=['A', 'B', 'C', 'D'])\n",
    "df"
   ]
  },
  {
   "cell_type": "code",
   "execution_count": null,
   "metadata": {},
   "outputs": [],
   "source": [
    "df.mean()"
   ]
  },
  {
   "cell_type": "markdown",
   "metadata": {},
   "source": [
    "As we can see we get back the mean over each column (the return value is a series).  \n",
    "And as one might suspect, pandas aggregation functions give us the opportunity to supply a axis parameter which will enable us to choose the aggregation axis."
   ]
  },
  {
   "cell_type": "code",
   "execution_count": null,
   "metadata": {},
   "outputs": [],
   "source": [
    "df.mean(axis=1)"
   ]
  },
  {
   "cell_type": "markdown",
   "metadata": {},
   "source": [
    "Again the returned type is a Series, notice that the index of the series is derived by the index of the axis on which we operate. The column index if we operate on axis 0 and the row index if we operate on the 1 axis.  \n",
    "While this is nice, in many cases when we work on dataframes we which to preform our aggregation of groups inside the dataframes. For example we could have a **gender** column and we would like to aggregate over the Female and Male separately.  \n",
    "\n",
    "### Group By\n",
    "Here is an example:"
   ]
  },
  {
   "cell_type": "code",
   "execution_count": null,
   "metadata": {},
   "outputs": [],
   "source": [
    "np.random.seed(10)\n",
    "\n",
    "keys = np.random.choice(list('ABC'), size=12)\n",
    "f_value = np.random.randint(low=0, high=50, size=12)\n",
    "s_value = np.random.randint(low=0, high=50, size=12)\n",
    "\n",
    "df = pd.DataFrame({\n",
    "    'keys' : keys,\n",
    "    'f_value' : f_value,\n",
    "    's_value' : s_value\n",
    "})\n",
    "\n",
    "df"
   ]
  },
  {
   "cell_type": "markdown",
   "metadata": {},
   "source": [
    "So imagine that we would like the mean value of `f_value` and `s_value` but we would like to get the statistics for each key separately. Here's how we do it:"
   ]
  },
  {
   "cell_type": "code",
   "execution_count": null,
   "metadata": {},
   "outputs": [],
   "source": [
    "df.groupby('keys').mean()"
   ]
  },
  {
   "cell_type": "markdown",
   "metadata": {},
   "source": [
    "If your wondering why the `keys` value is written there, that's because an index could have a name. (example on scratchpad)."
   ]
  },
  {
   "cell_type": "markdown",
   "metadata": {},
   "source": [
    "Ok, so what just happened here:  \n",
    "### Split - Apply - Combine\n",
    "The process we just noticed is referred to as __split $\\rightarrow$ apply $\\rightarrow$ combine__\n",
    "1. __Split__ - We split our dataframes in to different groups of dataframes.\n",
    "1. __Apply__ - We apply some aggregation over each group separately.\n",
    "1. __Combine__ - We combine all the results in to one unified data frame.\n",
    "\n",
    "Here is in illustration:"
   ]
  },
  {
   "attachments": {
    "image.png": {
     "image/png": "[encoded data removed]"
    }
   },
   "cell_type": "markdown",
   "metadata": {},
   "source": [
    "<img src='attachment:image.png' width=\"600\">"
   ]
  },
  {
   "cell_type": "markdown",
   "metadata": {},
   "source": [
    "Another example:"
   ]
  },
  {
   "cell_type": "code",
   "execution_count": null,
   "metadata": {},
   "outputs": [],
   "source": [
    "df.groupby('keys').count()"
   ]
  },
  {
   "cell_type": "markdown",
   "metadata": {},
   "source": [
    "#### Group by\n",
    "When we perform the group by operation we get back a gropuby object:"
   ]
  },
  {
   "cell_type": "code",
   "execution_count": null,
   "metadata": {},
   "outputs": [],
   "source": [
    "g = df.groupby('keys')\n",
    "type(g)"
   ]
  },
  {
   "cell_type": "markdown",
   "metadata": {},
   "source": [
    "__Notice__ : One might expect that after the groupby call we would get back each group as a separate dataframe. This is not the case. The groupby mechanism is intended to work as part of the split-aggregation-combine workflow and in practice it does so by creating 'views' into the original dataframe. This is intended to save space and time that will require to create all of these groups as a stand alone dataframes. \n",
    "\n",
    "Let's dive deeper - Instead of using one of pandas built in apply methods we will write our own and play with it."
   ]
  },
  {
   "cell_type": "code",
   "execution_count": null,
   "metadata": {},
   "outputs": [],
   "source": [
    "def my_apply(df):\n",
    "    print (df)\n",
    "    print('-' * 20)\n",
    "    return None\n",
    "    \n",
    "result = df.groupby('keys').apply(my_apply)\n",
    "print('*' * 20)\n",
    "print(result)"
   ]
  },
  {
   "cell_type": "markdown",
   "metadata": {},
   "source": [
    "You might ask yourself why the 'A' group printed twice? I know I asked myself this question. The answer is that pandas run the first group twice, in order to analyze whether it could use some internal optimization or not, it ignores the first value returned. Be aware in case you are trying to do something which will change on every iteration (if you save an outside count of some sort).\n",
    "\n",
    "Now, let's see we can emulate the mean behavior using the apply method:"
   ]
  },
  {
   "cell_type": "code",
   "execution_count": null,
   "metadata": {},
   "outputs": [],
   "source": [
    "def my_apply(df):\n",
    "    return df.mean()\n",
    "\n",
    "result = df.groupby('keys').apply(my_apply)\n",
    "result == df.groupby('keys').mean()"
   ]
  },
  {
   "cell_type": "markdown",
   "metadata": {},
   "source": [
    "This open the doors to creating your own customs aggregation:"
   ]
  },
  {
   "cell_type": "code",
   "execution_count": null,
   "metadata": {},
   "outputs": [],
   "source": [
    "def range_size(df):\n",
    "    return df.max() - df.min()\n",
    "\n",
    "df.groupby('keys').apply(range_size)"
   ]
  },
  {
   "cell_type": "markdown",
   "metadata": {},
   "source": [
    "Let's say I only want aggregation over one of the columns. I have a couple of ways I can tackle that :  \n",
    "1. Work only on the specific column\n",
    "1. Extract the column at the end\n"
   ]
  },
  {
   "cell_type": "code",
   "execution_count": null,
   "metadata": {},
   "outputs": [],
   "source": [
    "df.groupby('keys')['s_value'].mean()"
   ]
  },
  {
   "cell_type": "code",
   "execution_count": null,
   "metadata": {},
   "outputs": [],
   "source": [
    "df.groupby('keys')['s_value'].mean() == df.groupby('keys').mean()['s_value']"
   ]
  },
  {
   "cell_type": "markdown",
   "metadata": {},
   "source": [
    "Unless you have a very good reason you should go for the first option and not the second. In the second options your computing information you don't need. Which means you are wasting time and resources. Don't be that person."
   ]
  },
  {
   "cell_type": "markdown",
   "metadata": {},
   "source": [
    "__Summing up:__  \n",
    "The split-apply-combine flow enabled by the `groupby` method is a very convenient way of aggregating over specific groups in the data. You can use pandas built in aggregation function such as (`min`, `max`, `mean` etc..) or build your own apply function which can be as complex as possible."
   ]
  },
  {
   "cell_type": "markdown",
   "metadata": {},
   "source": [
    "### apply\n",
    "It's worth noting the apply method is not restricted to the groupby operation. The apply method in pandas allow you to iterate either columns or rows and execute a piece of code on each column / row. If you use apply on a Series you simply iterate over values.  \n",
    "Here is an example of applying over a series:"
   ]
  },
  {
   "cell_type": "code",
   "execution_count": null,
   "metadata": {},
   "outputs": [],
   "source": [
    "def lower_case(letter):\n",
    "    return letter.lower()\n",
    "\n",
    "df['keys'].apply(lower_case)"
   ]
  },
  {
   "cell_type": "markdown",
   "metadata": {},
   "source": [
    "Here is an example of applying over a dataframe:"
   ]
  },
  {
   "cell_type": "code",
   "execution_count": null,
   "metadata": {},
   "outputs": [],
   "source": [
    "def concat_row_to_str(row):\n",
    "    s = ''\n",
    "    for v in row.values:\n",
    "        s += str(v) \n",
    "        \n",
    "    return s\n",
    "    \n",
    "df.apply(concat_row_to_str, axis=1)"
   ]
  },
  {
   "cell_type": "markdown",
   "metadata": {},
   "source": [
    "***\n",
    "## Exercise \n",
    "***"
   ]
  },
  {
   "cell_type": "code",
   "execution_count": null,
   "metadata": {},
   "outputs": [],
   "source": [
    "from sklearn import datasets\n",
    "\n",
    "wine_dataset = datasets.load_wine()"
   ]
  },
  {
   "cell_type": "code",
   "execution_count": null,
   "metadata": {},
   "outputs": [],
   "source": [
    "X = wine_dataset.data\n",
    "y = wine_dataset.target\n",
    "\n",
    "df = pd.DataFrame(X, columns=wine_dataset.feature_names)\n",
    "df = pd.concat([df, pd.Series(y, name='quality')], axis=1)\n",
    "\n",
    "df.head()"
   ]
  },
  {
   "cell_type": "markdown",
   "metadata": {},
   "source": [
    "__Find the mean `alcohol` level in each `quality` group__"
   ]
  },
  {
   "cell_type": "code",
   "execution_count": null,
   "metadata": {},
   "outputs": [],
   "source": [
    "# Your code starts here\n",
    "\n",
    "# Your code ends here"
   ]
  },
  {
   "cell_type": "markdown",
   "metadata": {},
   "source": [
    "__Find the average `quality` and the count of wines with `magnesium` bigger then 100 and smaller than 100__  \n",
    "Meaning you should display the average quality and the number of wines used to compute this average.  \n",
    "Look in the docs of pandas [agg function](https://pandas.pydata.org/pandas-docs/stable/reference/api/pandas.DataFrame.agg.html) for how to perform more than one aggregation after the groupby command.\n",
    "* You can change the original dataframe"
   ]
  },
  {
   "cell_type": "code",
   "execution_count": null,
   "metadata": {},
   "outputs": [],
   "source": [
    "# Your code starts here\n",
    "\n",
    "# Your code ends here"
   ]
  },
  {
   "cell_type": "markdown",
   "metadata": {},
   "source": [
    "__Find the mean and standard deviation of the `ash` values in the following groups__:\n",
    "1. all wines with flavanoids of above 3\n",
    "1. all wines with flavanoids of between 2 and 3\n",
    "1. all wines with flavanoids of below 2  \n",
    "\n",
    "\n",
    "- You can change the original dataframe"
   ]
  },
  {
   "cell_type": "code",
   "execution_count": null,
   "metadata": {},
   "outputs": [],
   "source": [
    "# Your code starts here\n",
    "\n",
    "# Your code ends here"
   ]
  },
  {
   "cell_type": "markdown",
   "metadata": {},
   "source": [
    "# References\n",
    "\n",
    "- [Python Data Science Handbook](https://jakevdp.github.io/PythonDataScienceHandbook/) A thorough tour into Numpy. \n",
    "- [How to use the Split-Apply-Combine strategy in Pandas groupby](https://towardsdatascience.com/how-to-use-the-split-apply-combine-strategy-in-pandas-groupby-29e0eb44b62e) An excellent blog summarizing the split apply combine flow."
   ]
  },
  {
   "cell_type": "markdown",
   "metadata": {},
   "source": [
    "# Colophon\n",
    "This notebook was written by __Yoav Orlev__ and is part of the __intro to Python for data science__ course at IDC Herzliya.\n",
    "\n",
    "This work is licensed under a CC BY-NC-SA 4.0 International License."
   ]
  }
 ],
 "metadata": {
  "kernelspec": {
   "display_name": "Python 3",
   "language": "python",
   "name": "python3"
  },
  "language_info": {
   "codemirror_mode": {
    "name": "ipython",
    "version": 3
   },
   "file_extension": ".py",
   "mimetype": "text/x-python",
   "name": "python",
   "nbconvert_exporter": "python",
   "pygments_lexer": "ipython3",
   "version": "3.7.6"
  },
  "varInspector": {
   "cols": {
    "lenName": 16,
    "lenType": 16,
    "lenVar": 40
   },
   "kernels_config": {
    "python": {
     "delete_cmd_postfix": "",
     "delete_cmd_prefix": "del ",
     "library": "var_list.py",
     "varRefreshCmd": "print(var_dic_list())"
    },
    "r": {
     "delete_cmd_postfix": ") ",
     "delete_cmd_prefix": "rm(",
     "library": "var_list.r",
     "varRefreshCmd": "cat(var_dic_list()) "
    }
   },
   "types_to_exclude": [
    "module",
    "function",
    "builtin_function_or_method",
    "instance",
    "_Feature"
   ],
   "window_display": false
  }
 },
 "nbformat": 4,
 "nbformat_minor": 2
}
