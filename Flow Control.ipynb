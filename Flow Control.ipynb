{
 "cells": [
  {
   "cell_type": "markdown",
   "metadata": {},
   "source": [
    "נרצה לברר האם תנאי מסוים מתקיים כביטוי אמת או כביטוי שקר\n",
    "למשל, האם שתי מחרוזות הן זהות:\n",
    "\n",
    "Hello לעומת hello<br>\n",
    "?זה אותו הדבר\n",
    "\n",
    "**תזכורת**: \n",
    "האופרטורים, ==, >=, <=, >, <   אלו הם אופרטורים לוגיים. כלומר הם נועדו לבדיקת תנאים\n"
   ]
  },
  {
   "cell_type": "code",
   "execution_count": 19,
   "metadata": {},
   "outputs": [
    {
     "data": {
      "text/plain": [
       "False"
      ]
     },
     "execution_count": 19,
     "metadata": {},
     "output_type": "execute_result"
    }
   ],
   "source": [
    "\"Hello\"==\"hello\""
   ]
  },
  {
   "cell_type": "code",
   "execution_count": 20,
   "metadata": {},
   "outputs": [
    {
     "data": {
      "text/plain": [
       "False"
      ]
     },
     "execution_count": 20,
     "metadata": {},
     "output_type": "execute_result"
    }
   ],
   "source": [
    "1=='1'"
   ]
  },
  {
   "cell_type": "markdown",
   "metadata": {},
   "source": [
    "אם נעביר תחביר לבדיקת תנאי לפונקצית הדפסה - היא בעצם תדפיס לנו את התוצאה:"
   ]
  },
  {
   "cell_type": "code",
   "execution_count": null,
   "metadata": {},
   "outputs": [],
   "source": [
    "print(\"hello\"==\"Hello\")  # == print(False)"
   ]
  },
  {
   "cell_type": "markdown",
   "metadata": {},
   "source": [
    "מה יקרה כשנריץ את השורה הבאה?"
   ]
  },
  {
   "cell_type": "code",
   "execution_count": 21,
   "metadata": {},
   "outputs": [
    {
     "name": "stdout",
     "output_type": "stream",
     "text": [
      "Hello==hello\n"
     ]
    }
   ],
   "source": [
    "print(\"Hello==hello\")"
   ]
  },
  {
   "cell_type": "markdown",
   "metadata": {},
   "source": [
    "דוגמאות בסיסיות על אופרטורים וביטויים בוליאניים על מספרים"
   ]
  },
  {
   "cell_type": "code",
   "execution_count": 22,
   "metadata": {},
   "outputs": [
    {
     "name": "stdout",
     "output_type": "stream",
     "text": [
      "False\n"
     ]
    }
   ],
   "source": [
    "print(1>2)"
   ]
  },
  {
   "cell_type": "code",
   "execution_count": null,
   "metadata": {},
   "outputs": [],
   "source": [
    "print(2*3==1 or 1+1==2)"
   ]
  },
  {
   "cell_type": "code",
   "execution_count": 23,
   "metadata": {},
   "outputs": [
    {
     "name": "stdout",
     "output_type": "stream",
     "text": [
      "True\n"
     ]
    }
   ],
   "source": [
    "print('a'+'b'=='ab' and not 1+2==1)"
   ]
  },
  {
   "cell_type": "code",
   "execution_count": 24,
   "metadata": {},
   "outputs": [
    {
     "name": "stdout",
     "output_type": "stream",
     "text": [
      "False\n"
     ]
    }
   ],
   "source": [
    "print('a'+'b'=='ab' and not 1+2==3)"
   ]
  },
  {
   "cell_type": "markdown",
   "metadata": {},
   "source": [
    "אם כן, ביטויים בוליאניים הם ביטויים שהתוצאה שלהם היא\n",
    "True או False\n",
    "\n",
    "ביטויים בוליאניים יכולים להסתיים בהתניה אחת או להתרחב למספר \"אינסופי\" של התניות"
   ]
  },
  {
   "cell_type": "code",
   "execution_count": 26,
   "metadata": {},
   "outputs": [
    {
     "name": "stdout",
     "output_type": "stream",
     "text": [
      "Please enter your age: 16\n",
      "---------------------------\n",
      "Wait untill you're 18\n"
     ]
    }
   ],
   "source": [
    "your_age = int(input(\"Please enter your age: \"))\n",
    "print('---------------------------')           \n",
    "if your_age >= 18:\n",
    "    print(\"You are Legal to buy Alcohol\")\n",
    "else:\n",
    "    print(\"Wait untill you're 18\")"
   ]
  },
  {
   "cell_type": "code",
   "execution_count": null,
   "metadata": {},
   "outputs": [],
   "source": [
    "names = ['Margret Thatcher','Karl Marx',\"Ze'ev Jabotinsky\",\"Bertrand Russel\",'fidel castro']\n",
    "long_names=[]\n",
    "\n",
    "## Iterable - any variable that can be iterated\n",
    "\n",
    "for name in names:\n",
    "    print(\"now `name`==\",name)\n",
    "    print(\"the name\", name, \"has\", len(name)-1, \"letters\")\n",
    "    if len(name)-1>10:\n",
    "        long_names.append(name)\n",
    "\n",
    "        \n",
    "print(long_names)"
   ]
  },
  {
   "cell_type": "code",
   "execution_count": 43,
   "metadata": {},
   "outputs": [
    {
     "name": "stdout",
     "output_type": "stream",
     "text": [
      "['Biochemistry', 'Statistics']\n"
     ]
    }
   ],
   "source": [
    "courses = ['Biochemistry','Organic Chemistry','Linear Algebra','Cell Biology','Statistics']\n",
    "\n",
    "dislike = []\n",
    "for course in courses:\n",
    "    if course=='Biochemistry' or course=='Statistics':\n",
    "        dislike.append(course)\n",
    "\n",
    "print(dislike)"
   ]
  },
  {
   "cell_type": "code",
   "execution_count": 45,
   "metadata": {},
   "outputs": [
    {
     "name": "stdout",
     "output_type": "stream",
     "text": [
      "['Biochemistry', 'Statistics']\n"
     ]
    }
   ],
   "source": [
    "dislike=[course for course in courses if course=='Biochemistry' or course=='Statistics']\n",
    "print(dislike)"
   ]
  },
  {
   "cell_type": "code",
   "execution_count": null,
   "metadata": {},
   "outputs": [],
   "source": [
    "## There is another way:\n",
    "long_names_2 = [x for x in names]\n",
    "long_names_2 = [x for x in names if len(name)-1>10]\n",
    "print(long_names_2)"
   ]
  },
  {
   "cell_type": "code",
   "execution_count": null,
   "metadata": {},
   "outputs": [],
   "source": [
    "flag = True\n",
    "names_of_users=[]\n",
    "2)while somethingelse:\n",
    "    1)while flag:  # while flag==True\n",
    "    #for i in range(4):  #range(4)==range(0,4)==0,1,2,3\n",
    "        current_inp = input(\"Enter name:\")\n",
    "        names_of_users.append(current_inp)\n",
    "        answer = input(\"Are You finished?\")\n",
    "        if answer==\"Yes\":\n",
    "            break\n",
    "            flag = False"
   ]
  },
  {
   "cell_type": "markdown",
   "metadata": {},
   "source": [
    "continue\n",
    "שורה שבה רשום continue עוצרת את הסבב הנוכחי, ומקדמת מידית לסבב הבא"
   ]
  },
  {
   "cell_type": "code",
   "execution_count": 42,
   "metadata": {},
   "outputs": [
    {
     "name": "stdout",
     "output_type": "stream",
     "text": [
      "this line should be printed any way\n",
      "0\n",
      "this line should be printed any way\n",
      "1\n",
      "this line should be printed any way\n",
      "3\n",
      "this line should be printed any way\n",
      "5\n",
      "this line should be printed any way\n",
      "6\n",
      "this line should be printed any way\n",
      "8\n"
     ]
    }
   ],
   "source": [
    "for i in range(0,10):\n",
    "    if i in [2,4,7,9]:\n",
    "        # doing something\n",
    "        continue\n",
    "    print(\"this line should be printed any way\")    \n",
    "    print(i)"
   ]
  },
  {
   "cell_type": "code",
   "execution_count": 31,
   "metadata": {},
   "outputs": [
    {
     "name": "stdout",
     "output_type": "stream",
     "text": [
      "Please enter your age: 17\n",
      "Please wait until midnight before answering the following question:\n",
      "Is it your birthday today? [yes/no]: yes\n",
      "Happy birthday! You are 18 now.\n",
      "Welcome!\n"
     ]
    }
   ],
   "source": [
    "age = int(input('Please enter your age: '))\n",
    "allowed_to_enter = False\n",
    "\n",
    "if age >= 18:\n",
    "    allowed_to_enter = True\n",
    "\n",
    "if age < 18:\n",
    "    print('Please wait until midnight before answering the following question:')\n",
    "    answer_for_birthday_is_today = input('Is it your birthday today? [yes/no]: ')\n",
    "    if age == 17 and answer_for_birthday_is_today == 'yes':\n",
    "        print('Happy birthday! You are 18 now.')\n",
    "        age = age + 1\n",
    "        allowed_to_enter = True\n",
    "\n",
    "if allowed_to_enter:\n",
    "    print('Welcome!')\n",
    "if not allowed_to_enter:\n",
    "    print('Sorry... Byebye')"
   ]
  },
  {
   "cell_type": "markdown",
   "metadata": {},
   "source": [
    "אופרטור '%' מחזיר את שארית החלוקה\n",
    "כלומר, מה השארית שנותרה מהמספר השלם האחרון שהתקבל בחלוקה\n",
    "\n",
    "למשל כשאני מחלק 3 ב-9, נותרתי עם שארית של 3"
   ]
  },
  {
   "cell_type": "code",
   "execution_count": 32,
   "metadata": {},
   "outputs": [
    {
     "name": "stdout",
     "output_type": "stream",
     "text": [
      "3\n"
     ]
    }
   ],
   "source": [
    "print(3%9)"
   ]
  },
  {
   "cell_type": "markdown",
   "metadata": {},
   "source": [
    "לעומת זאת כשאני מחלק 9 ב-3 קיבלתי בדיוק 3. ללא שארית\n"
   ]
  },
  {
   "cell_type": "code",
   "execution_count": 33,
   "metadata": {},
   "outputs": [
    {
     "name": "stdout",
     "output_type": "stream",
     "text": [
      "0\n"
     ]
    }
   ],
   "source": [
    "print(9%3)"
   ]
  },
  {
   "cell_type": "markdown",
   "metadata": {},
   "source": [
    ":דוגמא לאופרטור מודולו\n",
    "\n",
    "בדיקת נעליים.\n",
    "\n",
    ".בארון אמור להיות מספר זוגי של נעליים<br>\n",
    "אם ספרתי את כל הנעליים בארון והגעתי למספר אי-זוגי סימן שחסרה לי נעל אחת"
   ]
  },
  {
   "cell_type": "code",
   "execution_count": 35,
   "metadata": {},
   "outputs": [
    {
     "name": "stdout",
     "output_type": "stream",
     "text": [
      "How many shoes do you have in your drawer? 21\n",
      "You have an odd number of shoes. Something is wrong!\n"
     ]
    }
   ],
   "source": [
    "shoes_in_my_drawer = int(input(\"How many shoes do you have in your drawer? \"))\n",
    "\n",
    "if shoes_in_my_drawer % 2 == 1:\n",
    "    print(\"You have an odd number of shoes. Something is wrong!\")"
   ]
  },
  {
   "cell_type": "code",
   "execution_count": 38,
   "metadata": {},
   "outputs": [
    {
     "name": "stdout",
     "output_type": "stream",
     "text": [
      "doing something for the 0 -th time\n",
      "doing something for the 1 -th time\n",
      "doing something for the 2 -th time\n",
      "doing something for the 3 -th time\n",
      "doing something for the 4 -th time\n",
      "doing something for the 5 -th time\n",
      "doing something for the 6 -th time\n",
      "doing something for the 7 -th time\n",
      "doing something for the 8 -th time\n",
      "doing something for the 9 -th time\n"
     ]
    }
   ],
   "source": [
    "i=0\n",
    "while i<10:\n",
    "    print('doing something for the',i,'-th time')\n",
    "    #do something\n",
    "    i=i+1\n",
    "\n",
    "\n",
    "\n",
    "\n",
    "\n",
    "\n",
    "    "
   ]
  },
  {
   "cell_type": "code",
   "execution_count": null,
   "metadata": {},
   "outputs": [],
   "source": []
  }
 ],
 "metadata": {
  "kernelspec": {
   "display_name": "Python 3",
   "language": "python",
   "name": "python3"
  },
  "language_info": {
   "codemirror_mode": {
    "name": "ipython",
    "version": 3
   },
   "file_extension": ".py",
   "mimetype": "text/x-python",
   "name": "python",
   "nbconvert_exporter": "python",
   "pygments_lexer": "ipython3",
   "version": "3.7.1"
  },
  "toc": {
   "base_numbering": 1,
   "nav_menu": {},
   "number_sections": true,
   "sideBar": true,
   "skip_h1_title": false,
   "title_cell": "Table of Contents",
   "title_sidebar": "Contents",
   "toc_cell": false,
   "toc_position": {},
   "toc_section_display": true,
   "toc_window_display": false
  },
  "varInspector": {
   "cols": {
    "lenName": 16,
    "lenType": 16,
    "lenVar": 40
   },
   "kernels_config": {
    "python": {
     "delete_cmd_postfix": "",
     "delete_cmd_prefix": "del ",
     "library": "var_list.py",
     "varRefreshCmd": "print(var_dic_list())"
    },
    "r": {
     "delete_cmd_postfix": ") ",
     "delete_cmd_prefix": "rm(",
     "library": "var_list.r",
     "varRefreshCmd": "cat(var_dic_list()) "
    }
   },
   "types_to_exclude": [
    "module",
    "function",
    "builtin_function_or_method",
    "instance",
    "_Feature"
   ],
   "window_display": false
  }
 },
 "nbformat": 4,
 "nbformat_minor": 2
}
